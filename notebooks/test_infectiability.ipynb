{
 "cells": [
  {
   "cell_type": "code",
   "execution_count": 1,
   "id": "1b566748",
   "metadata": {},
   "outputs": [],
   "source": [
    "import logging\n",
    "\n",
    "log = logging.getLogger(__name__)\n",
    "import argparse\n",
    "import datetime\n",
    "import sys\n",
    "import pymc3 as pm\n",
    "import theano.tensor as tt\n",
    "import pickle\n",
    "import pandas as pd\n",
    "import numpy as np\n",
    "import scipy.special\n",
    "from multiprocessing import cpu_count\n",
    "import matplotlib.pyplot as plt\n",
    "\n",
    "\n",
    "sys.path.append(\"../covid19_inference\")\n",
    "sys.path.append(\"..\")\n",
    "\n",
    "import data\n",
    "from causal_covid.data import load_cases, load_infectiability\n",
    "from causal_covid.utils import get_cps, day_to_week_matrix\n",
    "from causal_covid.model import (\n",
    "    create_model_single_dimension,\n",
    "    create_model_multidmensional,\n",
    "    create_model_single_dimension_infectiability,\n",
    ")\n",
    "\n",
    "from covid19_inference import Cov19Model\n",
    "from covid19_inference.model import (\n",
    "    lambda_t_with_sigmoids,\n",
    "    kernelized_spread_with_interaction,\n",
    "    kernelized_spread,\n",
    "    week_modulation,\n",
    "    student_t_likelihood,\n",
    "    delay_cases,\n",
    "    uncorrelated_prior_E,\n",
    ")"
   ]
  },
  {
   "cell_type": "code",
   "execution_count": 2,
   "id": "13da19b0",
   "metadata": {},
   "outputs": [
    {
     "name": "stderr",
     "output_type": "stream",
     "text": [
      "INFO     [causal_covid.utils] pr_sigma_date_transient was set to default value 1.5\n",
      "INFO     [causal_covid.utils] pr_sigma_lambda was set to default value 0.2\n",
      "INFO     [causal_covid.utils] relative_to_previous was set to default value True\n",
      "INFO     [causal_covid.utils] pr_factor_to_previous was set to default value 1.0\n",
      "INFO     [causal_covid.utils] pr_median_lambda was set to default value 0.125\n",
      "INFO     [covid19_inference.model.spreading_rate] Lambda_t with sigmoids\n",
      "INFO     [covid19_inference.model.compartmental_models] Uncorrelated prior_E\n",
      "INFO     [covid19_inference.model.compartmental_models] kernelized spread\n",
      "Auto-assigning NUTS sampler...\n",
      "INFO     [pymc3] Auto-assigning NUTS sampler...\n",
      "Initializing NUTS using jitter+adapt_diag...\n",
      "INFO     [pymc3] Initializing NUTS using jitter+adapt_diag...\n",
      "Multiprocess sampling (4 chains in 4 jobs)\n",
      "INFO     [pymc3] Multiprocess sampling (4 chains in 4 jobs)\n",
      "NUTS: [sigma_obs, median_incubation, I_begin_ratio_log_L2_raw, sigma_I_begin_ratio_log_L1, I_begin_ratio_log_L1, transient_len_6_hc_L2_raw_raw_, transient_len_6_hc_L1_raw, sigma_transient_len_6_log_exp, transient_len_5_hc_L2_raw_raw_, transient_len_5_hc_L1_raw, sigma_transient_len_5_log_exp, transient_len_4_hc_L2_raw_raw_, transient_len_4_hc_L1_raw, sigma_transient_len_4_log_exp, transient_len_3_hc_L2_raw_raw_, transient_len_3_hc_L1_raw, sigma_transient_len_3_log_exp, transient_len_2_hc_L2_raw_raw_, transient_len_2_hc_L1_raw, sigma_transient_len_2_log_exp, transient_len_1_hc_L2_raw_raw_, transient_len_1_hc_L1_raw, sigma_transient_len_1_log_exp, transient_day_6_hc_L2_raw_, transient_day_6_hc_L1, sigma_transient_day_6_L1_log_exp, transient_day_5_hc_L2_raw_, transient_day_5_hc_L1, sigma_transient_day_5_L1_log_exp, transient_day_4_hc_L2_raw_, transient_day_4_hc_L1, sigma_transient_day_4_L1_log_exp, transient_day_3_hc_L2_raw_, transient_day_3_hc_L1, sigma_transient_day_3_L1_log_exp, transient_day_2_hc_L2_raw_, transient_day_2_hc_L1, sigma_transient_day_2_L1_log_exp, transient_day_1_hc_L2_raw_, transient_day_1_hc_L1, sigma_transient_day_1_L1_log_exp, factor_lambda_6_hc_L2_log_raw_, factor_lambda_6_hc_L1_log, sigma_lambda_6_hc_L1_log_exp, factor_lambda_5_hc_L2_log_raw_, factor_lambda_5_hc_L1_log, sigma_lambda_5_hc_L1_log_exp, factor_lambda_4_hc_L2_log_raw_, factor_lambda_4_hc_L1_log, sigma_lambda_4_hc_L1_log_exp, factor_lambda_3_hc_L2_log_raw_, factor_lambda_3_hc_L1_log, sigma_lambda_3_hc_L1_log_exp, factor_lambda_2_hc_L2_log_raw_, factor_lambda_2_hc_L1_log, sigma_lambda_2_hc_L1_log_exp, factor_lambda_1_hc_L2_log_raw_, factor_lambda_1_hc_L1_log, sigma_lambda_1_hc_L1_log_exp, lambda_0_hc_L2_log_raw_, lambda_0_hc_L1_log_, sigma_lambda_0_hc_L1_log_exp]\n",
      "INFO     [pymc3] NUTS: [sigma_obs, median_incubation, I_begin_ratio_log_L2_raw, sigma_I_begin_ratio_log_L1, I_begin_ratio_log_L1, transient_len_6_hc_L2_raw_raw_, transient_len_6_hc_L1_raw, sigma_transient_len_6_log_exp, transient_len_5_hc_L2_raw_raw_, transient_len_5_hc_L1_raw, sigma_transient_len_5_log_exp, transient_len_4_hc_L2_raw_raw_, transient_len_4_hc_L1_raw, sigma_transient_len_4_log_exp, transient_len_3_hc_L2_raw_raw_, transient_len_3_hc_L1_raw, sigma_transient_len_3_log_exp, transient_len_2_hc_L2_raw_raw_, transient_len_2_hc_L1_raw, sigma_transient_len_2_log_exp, transient_len_1_hc_L2_raw_raw_, transient_len_1_hc_L1_raw, sigma_transient_len_1_log_exp, transient_day_6_hc_L2_raw_, transient_day_6_hc_L1, sigma_transient_day_6_L1_log_exp, transient_day_5_hc_L2_raw_, transient_day_5_hc_L1, sigma_transient_day_5_L1_log_exp, transient_day_4_hc_L2_raw_, transient_day_4_hc_L1, sigma_transient_day_4_L1_log_exp, transient_day_3_hc_L2_raw_, transient_day_3_hc_L1, sigma_transient_day_3_L1_log_exp, transient_day_2_hc_L2_raw_, transient_day_2_hc_L1, sigma_transient_day_2_L1_log_exp, transient_day_1_hc_L2_raw_, transient_day_1_hc_L1, sigma_transient_day_1_L1_log_exp, factor_lambda_6_hc_L2_log_raw_, factor_lambda_6_hc_L1_log, sigma_lambda_6_hc_L1_log_exp, factor_lambda_5_hc_L2_log_raw_, factor_lambda_5_hc_L1_log, sigma_lambda_5_hc_L1_log_exp, factor_lambda_4_hc_L2_log_raw_, factor_lambda_4_hc_L1_log, sigma_lambda_4_hc_L1_log_exp, factor_lambda_3_hc_L2_log_raw_, factor_lambda_3_hc_L1_log, sigma_lambda_3_hc_L1_log_exp, factor_lambda_2_hc_L2_log_raw_, factor_lambda_2_hc_L1_log, sigma_lambda_2_hc_L1_log_exp, factor_lambda_1_hc_L2_log_raw_, factor_lambda_1_hc_L1_log, sigma_lambda_1_hc_L1_log_exp, lambda_0_hc_L2_log_raw_, lambda_0_hc_L1_log_, sigma_lambda_0_hc_L1_log_exp]\n"
     ]
    },
    {
     "data": {
      "text/html": [
       "\n",
       "<style>\n",
       "    /* Turns off some styling */\n",
       "    progress {\n",
       "        /* gets rid of default border in Firefox and Opera. */\n",
       "        border: none;\n",
       "        /* Needs to be in here for Safari polyfill so background images work as expected. */\n",
       "        background-size: auto;\n",
       "    }\n",
       "    .progress-bar-interrupted, .progress-bar-interrupted::-webkit-progress-bar {\n",
       "        background: #F44336;\n",
       "    }\n",
       "</style>\n"
      ],
      "text/plain": [
       "<IPython.core.display.HTML object>"
      ]
     },
     "metadata": {},
     "output_type": "display_data"
    },
    {
     "data": {
      "text/html": [
       "\n",
       "    <div>\n",
       "      <progress value='8000' class='' max='8000' style='width:300px; height:20px; vertical-align: middle;'></progress>\n",
       "      100.00% [8000/8000 1:26:41<00:00 Sampling 4 chains, 112 divergences]\n",
       "    </div>\n",
       "    "
      ],
      "text/plain": [
       "<IPython.core.display.HTML object>"
      ]
     },
     "metadata": {},
     "output_type": "display_data"
    },
    {
     "name": "stderr",
     "output_type": "stream",
     "text": [
      "Sampling 4 chains for 1_000 tune and 1_000 draw iterations (4_000 + 4_000 draws total) took 5208 seconds.\n",
      "INFO     [pymc3] Sampling 4 chains for 1_000 tune and 1_000 draw iterations (4_000 + 4_000 draws total) took 5208 seconds.\n",
      "There were 55 divergences after tuning. Increase `target_accept` or reparameterize.\n",
      "ERROR    [pymc3] There were 55 divergences after tuning. Increase `target_accept` or reparameterize.\n",
      "There were 4 divergences after tuning. Increase `target_accept` or reparameterize.\n",
      "ERROR    [pymc3] There were 4 divergences after tuning. Increase `target_accept` or reparameterize.\n",
      "There were 26 divergences after tuning. Increase `target_accept` or reparameterize.\n",
      "ERROR    [pymc3] There were 26 divergences after tuning. Increase `target_accept` or reparameterize.\n",
      "There were 27 divergences after tuning. Increase `target_accept` or reparameterize.\n",
      "ERROR    [pymc3] There were 27 divergences after tuning. Increase `target_accept` or reparameterize.\n",
      "The acceptance probability does not match the target. It is 0.7060168709448182, but should be close to 0.8. Try to increase the number of tuning steps.\n",
      "WARNING  [pymc3] The acceptance probability does not match the target. It is 0.7060168709448182, but should be close to 0.8. Try to increase the number of tuning steps.\n",
      "The rhat statistic is larger than 1.05 for some parameters. This indicates slight problems during sampling.\n",
      "INFO     [pymc3] The rhat statistic is larger than 1.05 for some parameters. This indicates slight problems during sampling.\n",
      "The estimated number of effective samples is smaller than 200 for some parameters.\n",
      "ERROR    [pymc3] The estimated number of effective samples is smaller than 200 for some parameters.\n"
     ]
    }
   ],
   "source": [
    "begin = datetime.datetime(2021, 8, 1)\n",
    "end = datetime.datetime(2021, 10, 1)\n",
    "file = \"../data/2022-02-09_16-39-19_young_to_old_cap/scenario_export/observed_infection_data.csv\"\n",
    "cases_df = load_cases(file, begin, end, num_age_groups=1)\n",
    "\n",
    "vaccination_file = \"./../data/2022-02-09_16-39-19_young_to_old_cap/scenario_export/observed_vaccination_data.csv\"\n",
    "waning_file = \"./../data/2022-02-09_16-39-19_young_to_old_cap/scenario_export/vaccine_efficacy_waning_data.csv\"\n",
    "population_file = \"./../data/2022-02-09_16-39-19_young_to_old_cap/scenario_export/population_data.csv\"\n",
    "observed_U2_file = \"./../data/2022-02-02_14-19-24_observed_vac_policy/vaccination_policy/U_2.npy\"\n",
    "observed_U3_file = \"./../data/2022-02-02_14-19-24_observed_vac_policy/vaccination_policy/u_3.npy\"\n",
    "\n",
    "diff_data_sim = 14+7 # plus 7 days because data begin 6 days earlier as the reported index at the end of the week\n",
    "begin_infectiability = begin - datetime.timedelta(days=diff_data_sim)\n",
    "\n",
    "infectiability_df = load_infectiability(vaccination_file, population_file, observed_U2_file, observed_U3_file, waning_file, begin_infectiability, end, num_age_groups=1)\n",
    "\n",
    "model = create_model_single_dimension_infectiability(cases_df, infectiability_df, N_population=10 ** 7)\n",
    "# model2 = create_model_multidmensional(cases_df, [10**8, 10**8, 10**8])\n",
    "trace = pm.sample(model=model, return_inferencedata=True)"
   ]
  },
  {
   "cell_type": "code",
   "execution_count": 3,
   "id": "39e7da79",
   "metadata": {},
   "outputs": [
    {
     "ename": "ValueError",
     "evalue": "cannot reshape array of size 0 into shape (91,0,newaxis)",
     "output_type": "error",
     "traceback": [
      "\u001B[0;31m---------------------------------------------------------------------------\u001B[0m",
      "\u001B[0;31mValueError\u001B[0m                                Traceback (most recent call last)",
      "\u001B[0;32m<ipython-input-3-1a508759bd81>\u001B[0m in \u001B[0;36m<module>\u001B[0;34m\u001B[0m\n\u001B[1;32m     22\u001B[0m ax.fill_between(\n\u001B[1;32m     23\u001B[0m     \u001B[0mt\u001B[0m\u001B[0;34m,\u001B[0m\u001B[0;34m\u001B[0m\u001B[0;34m\u001B[0m\u001B[0m\n\u001B[0;32m---> 24\u001B[0;31m     \u001B[0;34m*\u001B[0m\u001B[0mnp\u001B[0m\u001B[0;34m.\u001B[0m\u001B[0mpercentile\u001B[0m\u001B[0;34m(\u001B[0m\u001B[0mtrace\u001B[0m\u001B[0;34m.\u001B[0m\u001B[0mposterior\u001B[0m\u001B[0;34m.\u001B[0m\u001B[0mbase_R_t\u001B[0m\u001B[0;34m[\u001B[0m\u001B[0;34m...\u001B[0m\u001B[0;34m,\u001B[0m \u001B[0;36m14\u001B[0m\u001B[0;34m:\u001B[0m\u001B[0;34m-\u001B[0m\u001B[0;36m13\u001B[0m\u001B[0;34m]\u001B[0m\u001B[0;34m,\u001B[0m \u001B[0maxis\u001B[0m\u001B[0;34m=\u001B[0m\u001B[0;34m(\u001B[0m\u001B[0;36m0\u001B[0m\u001B[0;34m,\u001B[0m \u001B[0;36m1\u001B[0m\u001B[0;34m)\u001B[0m\u001B[0;34m,\u001B[0m \u001B[0mq\u001B[0m\u001B[0;34m=\u001B[0m\u001B[0;34m(\u001B[0m\u001B[0;36m12.5\u001B[0m\u001B[0;34m,\u001B[0m \u001B[0;36m87.5\u001B[0m\u001B[0;34m)\u001B[0m\u001B[0;34m)\u001B[0m\u001B[0;34m,\u001B[0m\u001B[0;34m\u001B[0m\u001B[0;34m\u001B[0m\u001B[0m\n\u001B[0m\u001B[1;32m     25\u001B[0m     \u001B[0malpha\u001B[0m\u001B[0;34m=\u001B[0m\u001B[0;36m0.3\u001B[0m\u001B[0;34m,\u001B[0m\u001B[0;34m\u001B[0m\u001B[0;34m\u001B[0m\u001B[0m\n\u001B[1;32m     26\u001B[0m     \u001B[0mcolor\u001B[0m\u001B[0;34m=\u001B[0m\u001B[0;34m\"tab:blue\"\u001B[0m\u001B[0;34m,\u001B[0m\u001B[0;34m\u001B[0m\u001B[0;34m\u001B[0m\u001B[0m\n",
      "\u001B[0;32m<__array_function__ internals>\u001B[0m in \u001B[0;36mpercentile\u001B[0;34m(*args, **kwargs)\u001B[0m\n",
      "\u001B[0;32m~/.local/lib/python3.9/site-packages/numpy/lib/function_base.py\u001B[0m in \u001B[0;36mpercentile\u001B[0;34m(a, q, axis, out, overwrite_input, interpolation, keepdims)\u001B[0m\n\u001B[1;32m   3816\u001B[0m     \u001B[0;32mif\u001B[0m \u001B[0;32mnot\u001B[0m \u001B[0m_quantile_is_valid\u001B[0m\u001B[0;34m(\u001B[0m\u001B[0mq\u001B[0m\u001B[0;34m)\u001B[0m\u001B[0;34m:\u001B[0m\u001B[0;34m\u001B[0m\u001B[0;34m\u001B[0m\u001B[0m\n\u001B[1;32m   3817\u001B[0m         \u001B[0;32mraise\u001B[0m \u001B[0mValueError\u001B[0m\u001B[0;34m(\u001B[0m\u001B[0;34m\"Percentiles must be in the range [0, 100]\"\u001B[0m\u001B[0;34m)\u001B[0m\u001B[0;34m\u001B[0m\u001B[0;34m\u001B[0m\u001B[0m\n\u001B[0;32m-> 3818\u001B[0;31m     return _quantile_unchecked(\n\u001B[0m\u001B[1;32m   3819\u001B[0m         a, q, axis, out, overwrite_input, interpolation, keepdims)\n\u001B[1;32m   3820\u001B[0m \u001B[0;34m\u001B[0m\u001B[0m\n",
      "\u001B[0;32m~/.local/lib/python3.9/site-packages/numpy/lib/function_base.py\u001B[0m in \u001B[0;36m_quantile_unchecked\u001B[0;34m(a, q, axis, out, overwrite_input, interpolation, keepdims)\u001B[0m\n\u001B[1;32m   3935\u001B[0m                         interpolation='linear', keepdims=False):\n\u001B[1;32m   3936\u001B[0m     \u001B[0;34m\"\"\"Assumes that q is in [0, 1], and is an ndarray\"\"\"\u001B[0m\u001B[0;34m\u001B[0m\u001B[0;34m\u001B[0m\u001B[0m\n\u001B[0;32m-> 3937\u001B[0;31m     r, k = _ureduce(a, func=_quantile_ureduce_func, q=q, axis=axis, out=out,\n\u001B[0m\u001B[1;32m   3938\u001B[0m                     \u001B[0moverwrite_input\u001B[0m\u001B[0;34m=\u001B[0m\u001B[0moverwrite_input\u001B[0m\u001B[0;34m,\u001B[0m\u001B[0;34m\u001B[0m\u001B[0;34m\u001B[0m\u001B[0m\n\u001B[1;32m   3939\u001B[0m                     interpolation=interpolation)\n",
      "\u001B[0;32m~/.local/lib/python3.9/site-packages/numpy/lib/function_base.py\u001B[0m in \u001B[0;36m_ureduce\u001B[0;34m(a, func, **kwargs)\u001B[0m\n\u001B[1;32m   3507\u001B[0m                 \u001B[0ma\u001B[0m \u001B[0;34m=\u001B[0m \u001B[0ma\u001B[0m\u001B[0;34m.\u001B[0m\u001B[0mswapaxes\u001B[0m\u001B[0;34m(\u001B[0m\u001B[0mi\u001B[0m\u001B[0;34m,\u001B[0m \u001B[0ms\u001B[0m\u001B[0;34m)\u001B[0m\u001B[0;34m\u001B[0m\u001B[0;34m\u001B[0m\u001B[0m\n\u001B[1;32m   3508\u001B[0m             \u001B[0;31m# merge reduced axis\u001B[0m\u001B[0;34m\u001B[0m\u001B[0;34m\u001B[0m\u001B[0;34m\u001B[0m\u001B[0m\n\u001B[0;32m-> 3509\u001B[0;31m             \u001B[0ma\u001B[0m \u001B[0;34m=\u001B[0m \u001B[0ma\u001B[0m\u001B[0;34m.\u001B[0m\u001B[0mreshape\u001B[0m\u001B[0;34m(\u001B[0m\u001B[0ma\u001B[0m\u001B[0;34m.\u001B[0m\u001B[0mshape\u001B[0m\u001B[0;34m[\u001B[0m\u001B[0;34m:\u001B[0m\u001B[0mnkeep\u001B[0m\u001B[0;34m]\u001B[0m \u001B[0;34m+\u001B[0m \u001B[0;34m(\u001B[0m\u001B[0;34m-\u001B[0m\u001B[0;36m1\u001B[0m\u001B[0;34m,\u001B[0m\u001B[0;34m)\u001B[0m\u001B[0;34m)\u001B[0m\u001B[0;34m\u001B[0m\u001B[0;34m\u001B[0m\u001B[0m\n\u001B[0m\u001B[1;32m   3510\u001B[0m             \u001B[0mkwargs\u001B[0m\u001B[0;34m[\u001B[0m\u001B[0;34m'axis'\u001B[0m\u001B[0;34m]\u001B[0m \u001B[0;34m=\u001B[0m \u001B[0;34m-\u001B[0m\u001B[0;36m1\u001B[0m\u001B[0;34m\u001B[0m\u001B[0;34m\u001B[0m\u001B[0m\n\u001B[1;32m   3511\u001B[0m         \u001B[0mkeepdim\u001B[0m \u001B[0;34m=\u001B[0m \u001B[0mtuple\u001B[0m\u001B[0;34m(\u001B[0m\u001B[0mkeepdim\u001B[0m\u001B[0;34m)\u001B[0m\u001B[0;34m\u001B[0m\u001B[0;34m\u001B[0m\u001B[0m\n",
      "\u001B[0;31mValueError\u001B[0m: cannot reshape array of size 0 into shape (91,0,newaxis)"
     ]
    },
    {
     "data": {
      "image/png": "[encoded data removed]",
      "text/plain": [
       "<Figure size 360x288 with 2 Axes>"
      ]
     },
     "metadata": {
      "needs_background": "light"
     },
     "output_type": "display_data"
    }
   ],
   "source": [
    "## Plotting\n",
    "\n",
    "import matplotlib.dates as mdates\n",
    "\n",
    "\n",
    "def format_date_axis(ax):\n",
    "    \"\"\"\n",
    "    Formats axis with dates\n",
    "    \"\"\"\n",
    "    ax.xaxis.set_major_locator(mdates.WeekdayLocator(interval=4, byweekday=mdates.SU))\n",
    "    ax.xaxis.set_minor_locator(mdates.WeekdayLocator(interval=1, byweekday=mdates.SU))\n",
    "    ax.xaxis.set_major_formatter(mdates.DateFormatter(\"%b %d\"))\n",
    "\n",
    "\n",
    "f, axes = plt.subplots(2, 1, figsize=(5, 4), gridspec_kw=dict(height_ratios=(0.3, 1)))\n",
    "t = [\n",
    "    cases_df.index[-1] - datetime.timedelta(days=i)\n",
    "    for i in range(len(cases_df) * 7, -1, -1)\n",
    "]\n",
    "ax = axes[0]\n",
    "ax.axhline(1, ls=\"--\", color=\"gray\", alpha=0.5)\n",
    "ax.fill_between(\n",
    "    t,\n",
    "    *np.percentile(trace.posterior.base_R_t[..., 14:-13], axis=(0, 1), q=(12.5, 87.5)),\n",
    "    alpha=0.3,\n",
    "    color=\"tab:blue\",\n",
    "    label=\"model (75% & 95% CI)\"\n",
    ")\n",
    "ax.fill_between(\n",
    "    t,\n",
    "    *np.percentile(trace.posterior.base_R_t[..., 14:-13], axis=(0, 1), q=(2.5, 97.5)),\n",
    "    alpha=0.3,\n",
    "    color=\"tab:blue\"\n",
    ")\n",
    "ax.set_xlim(min(t), max(t))\n",
    "ax.set_ylabel(\"Effective $R_t$\")\n",
    "format_date_axis(ax)\n",
    "\n",
    "ax = axes[1]\n",
    "\n",
    "ax.fill_between(\n",
    "    cases_df.index,\n",
    "    *np.percentile(trace.posterior.weekly_cases, axis=(0, 1), q=(12.5, 87.5)),\n",
    "    alpha=0.3,\n",
    "    color=\"tab:blue\",\n",
    "    label=\"model (75% & 95% CI)\"\n",
    ")\n",
    "plt.fill_between(\n",
    "    cases_df.index,\n",
    "    *np.percentile(trace.posterior.weekly_cases, axis=(0, 1), q=(2.5, 97.5)),\n",
    "    alpha=0.3,\n",
    "    color=\"tab:blue\"\n",
    ")\n",
    "plt.plot(cases_df.index, np.array(cases_df), \"d\", color=\"k\", label=\"data\")\n",
    "plt.xlabel(\"2021\")\n",
    "plt.ylabel(\"Weekly cases\")\n",
    "ax.set_xlim(min(t), max(t))\n",
    "ax.set_ylim(0)\n",
    "format_date_axis(ax)\n",
    "plt.legend()\n",
    "plt.tight_layout()"
   ]
  },
  {
   "cell_type": "code",
   "execution_count": null,
   "id": "30577c7c",
   "metadata": {},
   "outputs": [],
   "source": []
  }
 ],
 "metadata": {
  "kernelspec": {
   "display_name": "Python 3",
   "language": "python",
   "name": "python3"
  },
  "language_info": {
   "codemirror_mode": {
    "name": "ipython",
    "version": 3
   },
   "file_extension": ".py",
   "mimetype": "text/x-python",
   "name": "python",
   "nbconvert_exporter": "python",
   "pygments_lexer": "ipython3",
   "version": "3.9.6"
  }
 },
 "nbformat": 4,
 "nbformat_minor": 5
}